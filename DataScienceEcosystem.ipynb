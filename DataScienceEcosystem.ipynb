{
 "cells": [
  {
   "cell_type": "markdown",
   "id": "07ad7748-a7b2-4b36-95f9-1cd746aa4489",
   "metadata": {},
   "source": [
    "# Data Science Tools and Ecosystem\n"
   ]
  },
  {
   "cell_type": "markdown",
   "id": "6cffd22c-f6f0-4934-b2e8-eb3269899dd3",
   "metadata": {},
   "source": [
    "# In this notebook, Data Science Tools and Ecosystem are summerized.\n"
   ]
  },
  {
   "cell_type": "code",
   "execution_count": 1,
   "id": "ca39545f-8344-47d7-a20d-ecbf5a00be67",
   "metadata": {},
   "outputs": [
    {
     "name": "stdout",
     "output_type": "stream",
     "text": [
      "['Python', 'R', 'SQL']\n"
     ]
    }
   ],
   "source": [
    "#Some of the popular languages that Data Scientists use\n",
    "\n",
    "popular_languages=[\"Python\", \"R\", \"SQL\"]"
   ]
  },
  {
   "cell_type": "markdown",
   "id": "6e8bf68d-dfbb-4e55-a082-d7cebced8b9a",
   "metadata": {},
   "source": [
    "# Key takeaways from the course\n",
    "_Objectives:_ \n",
    "* Python\n",
    "* SQL\n",
    "* Java\n"
   ]
  },
  {
   "cell_type": "code",
   "execution_count": null,
   "id": "f4ad4eee-be2a-4ea9-91b3-a6c59c1d929c",
   "metadata": {},
   "outputs": [],
   "source": [
    "#Some of the commonly used libraries used by Data Scientists\n",
    "\n",
    "commonly_used_libraries=[\"dplyr\",\"stringr\",\"ggpot\",\"caret\"]"
   ]
  },
  {
   "cell_type": "code",
   "execution_count": 12,
   "id": "d6b776be-5104-4454-9f98-8838066a913d",
   "metadata": {},
   "outputs": [
    {
     "name": "stdout",
     "output_type": "stream",
     "text": [
      "Requirement already satisfied: tabulate in /opt/anaconda3/lib/python3.12/site-packages (0.9.0)\n",
      "Note: you may need to restart the kernel to use updated packages.\n"
     ]
    }
   ],
   "source": [
    "pip install tabulate"
   ]
  },
  {
   "cell_type": "code",
   "execution_count": 14,
   "id": "04efd4f7-cf4c-4813-97c2-d7e37d072ed7",
   "metadata": {},
   "outputs": [
    {
     "name": "stdout",
     "output_type": "stream",
     "text": [
      "+----------------------+\n",
      "| Data_Science_Tools   |\n",
      "+======================+\n",
      "| Python               |\n",
      "+----------------------+\n",
      "| RStudio              |\n",
      "+----------------------+\n",
      "| GitHub               |\n",
      "+----------------------+\n"
     ]
    }
   ],
   "source": [
    "\n",
    "# Sample data: list of lists\n",
    "data = [\n",
    "    [\"Python\"],\n",
    "    [\"RStudio\"],\n",
    "    [\"GitHub\"]\n",
    "]\n",
    "\n",
    "# Creating a table with headers and a grid format\n",
    "table = tabulate(\n",
    "    data, \n",
    "    headers=[\"Data_Science_Tools\"], \n",
    "    tablefmt=\"grid\"\n",
    ")\n",
    "\n",
    "print(table)"
   ]
  },
  {
   "cell_type": "code",
   "execution_count": 9,
   "id": "55797c03-6d1c-41ef-8ccb-3340e50f9a68",
   "metadata": {},
   "outputs": [
    {
     "name": "stdout",
     "output_type": "stream",
     "text": [
      "17\n"
     ]
    }
   ],
   "source": [
    "#Expressing arithmetic expression to multiply then add integers.\n",
    "\n",
    "result=(3*4)+5\n",
    "print(result)"
   ]
  },
  {
   "cell_type": "code",
   "execution_count": 11,
   "id": "1f1ef032-d525-4309-945a-430ea9ab7469",
   "metadata": {},
   "outputs": [
    {
     "name": "stdout",
     "output_type": "stream",
     "text": [
      "3.3333333333333335\n"
     ]
    }
   ],
   "source": [
    "#Converting minutes to hours\n",
    "\n",
    "hour=60\n",
    "my_time=200\n",
    "my_time_in_hours=my_time/hour\n",
    "print(my_time_in_hours)"
   ]
  },
  {
   "cell_type": "markdown",
   "id": "2e445d7b-56c8-4b40-b2eb-1f72535517aa",
   "metadata": {},
   "source": [
    "## Author Danilo Krgovic ##"
   ]
  },
  {
   "cell_type": "code",
   "execution_count": null,
   "id": "8b661655-46a1-4f6d-a9a7-e4c2631bd63b",
   "metadata": {},
   "outputs": [],
   "source": []
  }
 ],
 "metadata": {
  "kernelspec": {
   "display_name": "Python [conda env:base] *",
   "language": "python",
   "name": "conda-base-py"
  },
  "language_info": {
   "codemirror_mode": {
    "name": "ipython",
    "version": 3
   },
   "file_extension": ".py",
   "mimetype": "text/x-python",
   "name": "python",
   "nbconvert_exporter": "python",
   "pygments_lexer": "ipython3",
   "version": "3.12.7"
  }
 },
 "nbformat": 4,
 "nbformat_minor": 5
}
