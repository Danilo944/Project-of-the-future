{
 "cells": [
  {
   "cell_type": "code",
   "execution_count": 62,
   "id": "96e43c48-c870-4aec-8250-b71b7319742c",
   "metadata": {},
   "outputs": [
    {
     "name": "stdout",
     "output_type": "stream",
     "text": [
      "What is your name?\n"
     ]
    },
    {
     "name": "stdin",
     "output_type": "stream",
     "text": [
      " Danilo\n"
     ]
    },
    {
     "name": "stdout",
     "output_type": "stream",
     "text": [
      "Hello Danilo. What is your password?\n"
     ]
    },
    {
     "name": "stdin",
     "output_type": "stream",
     "text": [
      " Chicago2020\n"
     ]
    },
    {
     "name": "stdout",
     "output_type": "stream",
     "text": [
      " You have just logged in\n"
     ]
    }
   ],
   "source": [
    "while True:\n",
    "    print('What is your name?')\n",
    "    name = input()\n",
    "    if name != 'Danilo':\n",
    "     continue\n",
    "    print('Hello Danilo. What is your password?')\n",
    "    password = input()\n",
    "    if password == 'Chicago2020':\n",
    "        break\n",
    "print(' You have just logged in')\n",
    "        "
   ]
  },
  {
   "cell_type": "code",
   "execution_count": 9,
   "id": "7c213a9d-e1e6-4c9a-9d8c-e25b55201007",
   "metadata": {},
   "outputs": [
    {
     "name": "stdout",
     "output_type": "stream",
     "text": [
      "enter your name:\n"
     ]
    },
    {
     "name": "stdin",
     "output_type": "stream",
     "text": [
      " Danilo\n"
     ]
    },
    {
     "name": "stdout",
     "output_type": "stream",
     "text": [
      "How many guests will you have?\n"
     ]
    },
    {
     "name": "stdin",
     "output_type": "stream",
     "text": [
      " 4\n"
     ]
    },
    {
     "name": "stdout",
     "output_type": "stream",
     "text": [
      "be sure you have enough room for all the guests\n",
      "Done\n"
     ]
    }
   ],
   "source": [
    "name = ''\n",
    "while not name:\n",
    "    print('enter your name:')\n",
    "    name = input()\n",
    "print('How many guests will you have?')\n",
    "num_of_guests = int(input())\n",
    "if num_of_guests:\n",
    "    print('be sure you have enough room for all the guests')\n",
    "   \n",
    "print('Done')"
   ]
  },
  {
   "cell_type": "code",
   "execution_count": 26,
   "id": "6da8be6c-1c50-4d11-8cef-18f34abede2e",
   "metadata": {},
   "outputs": [
    {
     "name": "stdout",
     "output_type": "stream",
     "text": [
      "Who are you?\n"
     ]
    },
    {
     "name": "stdin",
     "output_type": "stream",
     "text": [
      " Danilo\n"
     ]
    },
    {
     "name": "stdout",
     "output_type": "stream",
     "text": [
      "What is your password?\n"
     ]
    },
    {
     "name": "stdin",
     "output_type": "stream",
     "text": [
      " Joensuu2018\n"
     ]
    },
    {
     "name": "stdout",
     "output_type": "stream",
     "text": [
      "Access granted\n"
     ]
    }
   ],
   "source": [
    "while True:\n",
    "    print('Who are you?')\n",
    "    name = input()\n",
    "    if name != 'Danilo':\n",
    "        continue\n",
    "    print('What is your password?')\n",
    "    password = input()\n",
    "    if password == 'Joensuu2018':\n",
    "        break\n",
    "print('Access granted')\n",
    "        \n",
    "    "
   ]
  },
  {
   "cell_type": "code",
   "execution_count": 36,
   "id": "95993b3b-4ab2-4b48-89a3-e8ae1f48be16",
   "metadata": {},
   "outputs": [
    {
     "name": "stdout",
     "output_type": "stream",
     "text": [
      "5050\n"
     ]
    }
   ],
   "source": [
    "total = 0\n",
    "for num in range(101):\n",
    "    total = total + num\n",
    "print(total)"
   ]
  },
  {
   "cell_type": "code",
   "execution_count": 38,
   "id": "f1c1a599-5761-486b-83d1-17b3b3c01e1f",
   "metadata": {},
   "outputs": [
    {
     "name": "stdout",
     "output_type": "stream",
     "text": [
      "My name is\n",
      "Danilo\n",
      "Danilo\n",
      "Danilo\n",
      "Danilo\n",
      "Danilo\n"
     ]
    }
   ],
   "source": [
    "print('My name is')\n",
    "i = 0\n",
    "while i<5:\n",
    "    print('Danilo')\n",
    "    i = i +1"
   ]
  },
  {
   "cell_type": "code",
   "execution_count": 40,
   "id": "9a069d89-8c75-41e4-bb05-5ef871be8269",
   "metadata": {},
   "outputs": [
    {
     "name": "stdout",
     "output_type": "stream",
     "text": [
      "My name is \n",
      "Danilo\n",
      "Danilo\n",
      "Danilo\n",
      "Danilo\n",
      "Danilo\n"
     ]
    }
   ],
   "source": [
    "# same outcome just using range() function\n",
    "print('My name is ')\n",
    "for i in range(5):\n",
    "    print('Danilo')\n",
    "    \n"
   ]
  },
  {
   "cell_type": "code",
   "execution_count": 42,
   "id": "48a38573-b3b8-43f5-bf6a-a00adb304e8f",
   "metadata": {},
   "outputs": [
    {
     "name": "stdout",
     "output_type": "stream",
     "text": [
      "12\n",
      "13\n",
      "14\n",
      "15\n"
     ]
    }
   ],
   "source": [
    "for i in range(12, 16):\n",
    "    print(i)"
   ]
  },
  {
   "cell_type": "code",
   "execution_count": 46,
   "id": "841c1b3b-f364-458b-a0df-6b54c2362385",
   "metadata": {},
   "outputs": [
    {
     "name": "stdout",
     "output_type": "stream",
     "text": [
      "0\n",
      "5\n",
      "10\n",
      "15\n",
      "20\n",
      "25\n"
     ]
    }
   ],
   "source": [
    "# printing numbers from 0 to 30 in range of 5\n",
    "for i in range (0, 30, 5):\n",
    "    print(i)"
   ]
  },
  {
   "cell_type": "code",
   "execution_count": 48,
   "id": "0e62f6dd-9293-45d8-a1da-452eddcddbba",
   "metadata": {},
   "outputs": [
    {
     "name": "stdout",
     "output_type": "stream",
     "text": [
      "10\n",
      "8\n",
      "6\n",
      "4\n",
      "2\n"
     ]
    }
   ],
   "source": [
    "#when using negative numbers it counts down \n",
    "for i in range(10, 0, -2):\n",
    "    print(i)"
   ]
  },
  {
   "cell_type": "code",
   "execution_count": 54,
   "id": "cdd2bafe-8893-4c5d-9d33-f54e5009c275",
   "metadata": {},
   "outputs": [
    {
     "name": "stdout",
     "output_type": "stream",
     "text": [
      "6\n",
      "10\n",
      "5\n",
      "8\n",
      "4\n"
     ]
    }
   ],
   "source": [
    "# importing a module, then using the module's function\n",
    "# when you import more modules you should use , to separate them e.g. import sys, random\n",
    "# module's name is random and the function under it is random.randint()\n",
    "import random\n",
    "for i in range(5):\n",
    "    print(random.randint(1, 10))"
   ]
  },
  {
   "cell_type": "code",
   "execution_count": null,
   "id": "b91e2aa7-4149-4839-ad10-b7b526cb576f",
   "metadata": {},
   "outputs": [],
   "source": [
    "import sys #importing the module sys\n",
    "\n",
    "while True:\n",
    "    print('type exit to exit')\n",
    "    response = input()\n",
    "    if response == 'exit':\n",
    "        sys.exit()\n",
    "    print('You typed ' + response + '.')"
   ]
  },
  {
   "cell_type": "code",
   "execution_count": 60,
   "id": "db865ca2-7def-4e59-9646-d641463b4f08",
   "metadata": {},
   "outputs": [
    {
     "name": "stdin",
     "output_type": "stream",
     "text": [
      "Enter your username:  Danilo\n",
      "Enter your password:  ········\n"
     ]
    },
    {
     "name": "stdout",
     "output_type": "stream",
     "text": [
      "Username entered: Danilo\n"
     ]
    }
   ],
   "source": [
    "import getpass\n",
    "\n",
    "def ask_for_credentials():\n",
    "    username = input(\"Enter your username: \")\n",
    "    password = getpass.getpass(\"Enter your password: \")\n",
    "    \n",
    "    return username, password\n",
    "\n",
    "# Example usage:\n",
    "user, pwd = ask_for_credentials()\n",
    "print(f\"Username entered: {user}\")\n",
    "# Avoid printing the password for security\n"
   ]
  },
  {
   "cell_type": "code",
   "execution_count": null,
   "id": "9e43a109-91e4-476d-8e94-f19ecf5c53c7",
   "metadata": {},
   "outputs": [],
   "source": []
  }
 ],
 "metadata": {
  "kernelspec": {
   "display_name": "Python [conda env:base] *",
   "language": "python",
   "name": "conda-base-py"
  },
  "language_info": {
   "codemirror_mode": {
    "name": "ipython",
    "version": 3
   },
   "file_extension": ".py",
   "mimetype": "text/x-python",
   "name": "python",
   "nbconvert_exporter": "python",
   "pygments_lexer": "ipython3",
   "version": "3.12.7"
  }
 },
 "nbformat": 4,
 "nbformat_minor": 5
}
